{
 "cells": [
  {
   "cell_type": "markdown",
   "id": "1408d8e0",
   "metadata": {},
   "source": [
    "# QUESTION:01\n",
    "Write a Python program to print the following string in a specific format (see the\n",
    "output).\n",
    "          \n",
    "\n",
    "          Twinkle,twinkle, little star,\n",
    "                  How I wonder what you are!\n",
    "                          Up above the world so high,\n",
    "                          Like a diamond in the sky.\n",
    "\n",
    "          Twinkle,twinkle, little star,\n",
    "                  How I wonder what you are\n"
   ]
  },
  {
   "cell_type": "code",
   "execution_count": 3,
   "id": "142ddc9c",
   "metadata": {},
   "outputs": [
    {
     "name": "stdout",
     "output_type": "stream",
     "text": [
      "\tTwinkle,twinkle,little star,\n",
      "\t\tHow I wonder what you are!\n",
      "\t\t\tUp above the world so high,\n",
      "\t\t\tLike a diamond in the sky.\n",
      "\tTwinkle,twinkle,little star,\n",
      "\t\tHow I wonder what you are\n"
     ]
    }
   ],
   "source": [
    "print(\"\\tTwinkle,twinkle,little star,\\n\\t\\tHow I wonder what you are!\\n\\t\\t\\tUp above the world so high,\\n\\t\\t\\tLike a diamond in the sky.\\n\\tTwinkle,twinkle,little star,\\n\\t\\tHow I wonder what you are\")  \n",
    "# \\n(New line character):Used to skip 1 line.\n",
    "# \\t: Used for 8 characters gap."
   ]
  },
  {
   "cell_type": "markdown",
   "id": "3e1d42dc",
   "metadata": {},
   "source": [
    "# QUESTION:02\n",
    "Write a Python program to get the Python version you are using"
   ]
  },
  {
   "cell_type": "code",
   "execution_count": 4,
   "id": "5fea59a5",
   "metadata": {},
   "outputs": [
    {
     "name": "stdout",
     "output_type": "stream",
     "text": [
      "Version = 3.8.8\n"
     ]
    }
   ],
   "source": [
    "import platform\n",
    "a=platform.python_version()\n",
    "print(\"Version =\",a)"
   ]
  },
  {
   "cell_type": "markdown",
   "id": "130bd344",
   "metadata": {},
   "source": [
    "# QUESTION:03\n",
    "Write a Python program to display the current date and time."
   ]
  },
  {
   "cell_type": "code",
   "execution_count": 7,
   "id": "65045cbc",
   "metadata": {},
   "outputs": [
    {
     "name": "stdout",
     "output_type": "stream",
     "text": [
      "Date = 23/10/2021\n",
      "Weekday Name = Saturday\n",
      "Month Name = October\n",
      "Time = 09:24:41PM\n"
     ]
    }
   ],
   "source": [
    "import time\n",
    "print(\"Date =\",time.strftime(\"%d/%m/%Y\"))\n",
    "#strf : Return string representation of date and time object.\n",
    "#%d : Display day of the month as a decimal number. \n",
    "#%m : Display month of the year as a decimal number.\n",
    "#%Y : Display year with century as a decimal number.\n",
    "\n",
    "print(\"Weekday Name =\",time.strftime(\"%A\"))\n",
    "print(\"Month Name =\",time.strftime(\"%B\"))\n",
    "\n",
    "print(\"Time =\",time.strftime(\"%I:%M:%S%p\"))\n",
    " #%I : Display hours in 12 hour format as a decimal number, %H used for 24 hours format.\n",
    " #%M : Display particular minute of an hour as a decimal number.\n",
    " #%S : Display particular second of a minute as a decimal number.\n",
    " #%p : Used to diplay either AM or PM \n"
   ]
  },
  {
   "cell_type": "markdown",
   "id": "df7086f4",
   "metadata": {},
   "source": [
    "# QUESTION:04\n",
    "Write a Python program which accepts the radius of a circle from the user and compute\n",
    "the area."
   ]
  },
  {
   "cell_type": "code",
   "execution_count": 8,
   "id": "dc0a3248",
   "metadata": {},
   "outputs": [
    {
     "name": "stdout",
     "output_type": "stream",
     "text": [
      "Enter a radius of a cicle:2.5\n",
      "Area of circle=19.635\n"
     ]
    }
   ],
   "source": [
    "import math\n",
    "radius=float(input(\"Enter a radius of a cicle:\"))\n",
    "Area=math.pi*math.pow(radius,2)\n",
    "print(\"Area of circle={:.3f}\".format(Area))\n",
    "# :.3f show only three digits after the decimal"
   ]
  },
  {
   "cell_type": "markdown",
   "id": "c4ee002b",
   "metadata": {},
   "source": [
    "# QUESTION:05\n",
    "Write a Python program which accepts the user's first and last name and print them in\n",
    "reverse order with a space between them."
   ]
  },
  {
   "cell_type": "code",
   "execution_count": 9,
   "id": "967fbcf3",
   "metadata": {},
   "outputs": [
    {
     "name": "stdout",
     "output_type": "stream",
     "text": [
      "Enter first name:muneeb\n",
      "Enter last name:adil\n",
      "Adil Muneeb\n"
     ]
    }
   ],
   "source": [
    "f_name=input(\"Enter first name:\")\n",
    "l_name=input(\"Enter last name:\")\n",
    "print(l_name.title()+\" \"+f_name.title())\n",
    "#.title()Make first character capital in a word."
   ]
  },
  {
   "cell_type": "markdown",
   "id": "4be28acf",
   "metadata": {},
   "source": [
    "# QUESTION:06\n",
    "Write a python program which takes two inputs from user and print them addition"
   ]
  },
  {
   "cell_type": "code",
   "execution_count": 10,
   "id": "04456dc3",
   "metadata": {},
   "outputs": [
    {
     "name": "stdout",
     "output_type": "stream",
     "text": [
      "Enter first number:48.2\n",
      "Enter second number:51.8\n",
      "sum = 100.0\n"
     ]
    }
   ],
   "source": [
    "num1=float(input(\"Enter first number:\"))\n",
    "num2=float(input(\"Enter second number:\"))\n",
    "print(\"sum =\",num1+num2)"
   ]
  },
  {
   "cell_type": "markdown",
   "id": "c322e1cf",
   "metadata": {},
   "source": [
    "# QUESTION:07\n",
    "Write a program which takes 5 inputs from user for different subject’s marks, total it\n",
    "and generate mark sheet using grades ?"
   ]
  },
  {
   "cell_type": "code",
   "execution_count": 3,
   "id": "e2c8b75d",
   "metadata": {},
   "outputs": [
    {
     "name": "stdout",
     "output_type": "stream",
     "text": [
      "Enter Marks of English:80\n",
      "Enter Marks of Mathematics:100\n",
      "Enter Marks of Computer Science:60\n",
      "Enter Marks of Statistics:75\n",
      "Enter Marks of Physics:50\n",
      "YOU GOT A GRADE WITH  73.0 %\n"
     ]
    }
   ],
   "source": [
    "a=int(input(\"Enter Marks of English:\"))\n",
    "b=int(input(\"Enter Marks of Mathematics:\"))\n",
    "c=int(input(\"Enter Marks of Computer Science:\"))\n",
    "d=int(input(\"Enter Marks of Statistics:\"))\n",
    "e=int(input(\"Enter Marks of Physics:\"))\n",
    "if (a >=33 and a<=100)and(b >=33 and b<=100)and(c >=33 and c<=100)and(d >=33 and d<=100)and(e >=33 and e<=100):\n",
    "    Obtained_Marks=a+b+c+d+e\n",
    "    Total_Marks=500\n",
    "    Percentage=(Obtained_Marks/Total_Marks)*100\n",
    "    if Percentage>=80 and Percentage<=100:\n",
    "        print(\"YOU GOT A+ GRADE WITH \",Percentage,\"%\")\n",
    "    elif Percentage>=70 and Percentage<80:\n",
    "        print(\"YOU GOT A GRADE WITH \",Percentage,\"%\")\n",
    "    elif Percentage>=60 and Percentage<70:\n",
    "        print(\"YOU GOT B GRADE WITH \",Percentage,\"%\")\n",
    "    elif Percentage>=50 and Percentage<60:\n",
    "        print(\"YOU GOT C GRADE WITH \",Percentage,\"%\")\n",
    "    elif Percentage>=40 and Percentage<50:\n",
    "        print(\"YOU GOT D GRADE WITH \",Percentage,\"%\")\n",
    "    else:\n",
    "        print(\"YOU GOT E GRADE WITH \",Percentage,\"%\")\n",
    "elif (a<0 or a>100)or(b<0 or b>100)or(c<0 or c>100)or(d<0 or d>100)or(e<0 or e>100):\n",
    "    print(\"Invalid Marks\")\n",
    "\n",
    "else:\n",
    "    print(\"GRADE = FAIL\")\n"
   ]
  },
  {
   "cell_type": "markdown",
   "id": "d862bc87",
   "metadata": {},
   "source": [
    "# QUESTION:08\n",
    "Write a program which take input from user and identify that the given number is even\n",
    "or odd?"
   ]
  },
  {
   "cell_type": "code",
   "execution_count": 1,
   "id": "6d787295",
   "metadata": {},
   "outputs": [
    {
     "name": "stdout",
     "output_type": "stream",
     "text": [
      "Enter a number:28\n",
      "28 is a even number\n"
     ]
    }
   ],
   "source": [
    "num=int(input(\"Enter a number:\"))\n",
    "if num%2==0:\n",
    "    print(num,\"is a even number\")\n",
    "else:\n",
    "    print(num,\"is an odd number\")"
   ]
  },
  {
   "cell_type": "markdown",
   "id": "1555498e",
   "metadata": {},
   "source": [
    "# QUESTION:09\n",
    "Write a program which print the length of the list?"
   ]
  },
  {
   "cell_type": "code",
   "execution_count": 9,
   "id": "94a28dbc",
   "metadata": {},
   "outputs": [
    {
     "name": "stdout",
     "output_type": "stream",
     "text": [
      "Length of the list= 7\n",
      "<class 'dict'>\n",
      "<class 'list'>\n",
      "<class 'str'>\n"
     ]
    }
   ],
   "source": [
    "a=[2,\"x\",4,{\"Muneeb\":\"Adil\",\"Neha\":\"Adil\"},[1,2,3,4,5],\"Muneeb\",6]\n",
    "print(\"Length of the list=\",len(a))\n",
    "print(type(a[3]))\n",
    "print(type(a[4]))\n",
    "print(type(a))"
   ]
  },
  {
   "cell_type": "markdown",
   "id": "9e2091e9",
   "metadata": {},
   "source": [
    "# NUMERIC LIST INPUT BY A USER:"
   ]
  },
  {
   "cell_type": "code",
   "execution_count": 2,
   "id": "182df450",
   "metadata": {},
   "outputs": [
    {
     "name": "stdout",
     "output_type": "stream",
     "text": [
      "Enter number of elements you want to enter in a list:6\n",
      "Enter a number:23\n",
      "Enter a number:32\n",
      "Enter a number:34\n",
      "Enter a number:43\n",
      "Enter a number:45\n",
      "Enter a number:54\n",
      "M= [23, 32, 34, 43, 45, 54]\n"
     ]
    }
   ],
   "source": [
    "M=[]\n",
    "length=int(input(\"Enter number of elements you want to enter in a list:\"))\n",
    "item=0\n",
    "while item<length:\n",
    "    a=int(input(\"Enter a number:\"))\n",
    "    item+=1\n",
    "    M.append(a)\n",
    "print(\"M=\",M)"
   ]
  },
  {
   "cell_type": "markdown",
   "id": "60900aba",
   "metadata": {},
   "source": [
    "# QUESTION:10\n",
    "Write a Python program to sum all the numeric items in a list?"
   ]
  },
  {
   "cell_type": "code",
   "execution_count": 3,
   "id": "9f69e43b",
   "metadata": {},
   "outputs": [
    {
     "name": "stdout",
     "output_type": "stream",
     "text": [
      "Sum of the numbers of a list= 231\n"
     ]
    }
   ],
   "source": [
    "print(\"Sum of the numbers of a list=\",sum(M))  "
   ]
  },
  {
   "cell_type": "markdown",
   "id": "85111fb4",
   "metadata": {},
   "source": [
    "# QUESTION:11\n",
    "Write a Python program to get the largest number from a numeric list."
   ]
  },
  {
   "cell_type": "code",
   "execution_count": 4,
   "id": "df6cb20d",
   "metadata": {},
   "outputs": [
    {
     "name": "stdout",
     "output_type": "stream",
     "text": [
      "Maximum number of a list= 54\n"
     ]
    }
   ],
   "source": [
    "print(\"Maximum number of a list=\",max(M))"
   ]
  },
  {
   "cell_type": "markdown",
   "id": "98bd72cd",
   "metadata": {},
   "source": [
    "# QUESTION:12\n",
    " Take a list, say for example this one:\n",
    "a = [1,1,2,3,5,8,13,21,34,55,89]\n",
    "Write a program that prints out all the elements of the list that are less than 5."
   ]
  },
  {
   "cell_type": "code",
   "execution_count": 6,
   "id": "5ed00b20",
   "metadata": {},
   "outputs": [
    {
     "name": "stdout",
     "output_type": "stream",
     "text": [
      "1 found at position 1\n",
      "1 found at position 2\n",
      "2 found at position 3\n",
      "3 found at position 4\n"
     ]
    }
   ],
   "source": [
    "a=[1,1,2,3,5,8,13,21,34,55,89]\n",
    "for i in range (len(a)):\n",
    "    if a[i]<5:\n",
    "        print(a[i],\"found at position\",i+1)"
   ]
  }
 ],
 "metadata": {
  "kernelspec": {
   "display_name": "Python 3",
   "language": "python",
   "name": "python3"
  },
  "language_info": {
   "codemirror_mode": {
    "name": "ipython",
    "version": 3
   },
   "file_extension": ".py",
   "mimetype": "text/x-python",
   "name": "python",
   "nbconvert_exporter": "python",
   "pygments_lexer": "ipython3",
   "version": "3.8.8"
  }
 },
 "nbformat": 4,
 "nbformat_minor": 5
}
